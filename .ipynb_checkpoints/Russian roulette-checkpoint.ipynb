{
 "cells": [
  {
   "cell_type": "code",
   "execution_count": 3,
   "id": "2f9ea9df",
   "metadata": {},
   "outputs": [
    {
     "ename": "SyntaxError",
     "evalue": "invalid character in identifier (<ipython-input-3-97976413eaa3>, line 27)",
     "output_type": "error",
     "traceback": [
      "\u001b[0;36m  File \u001b[0;32m\"<ipython-input-3-97976413eaa3>\"\u001b[0;36m, line \u001b[0;32m27\u001b[0m\n\u001b[0;31m    print(info,end=‘\\r’)\u001b[0m\n\u001b[0m                   ^\u001b[0m\n\u001b[0;31mSyntaxError\u001b[0m\u001b[0;31m:\u001b[0m invalid character in identifier\n"
     ]
    }
   ],
   "source": [
    "def russian_roulette():\n",
    "        #this is a russian roulette game. Game is composed of 2 players and 1 revolver. In one of the 6 shots there is a bullet, \n",
    "        #Players change the revolver until one is dead . Maximum rounds are 6\n",
    "        import random\n",
    "        import time\n",
    "\n",
    "        name1=input(\"Please enter your name \") #Player 1 inputs his name\n",
    "        name2=input(\"Player enter your name \") #Player 2 inputs his name\n",
    "        #To randomly determine who starts the game, player 1 is chosen randomly from the list of 2 players\n",
    "        player_list = [name1, name2] \n",
    "        player1 = (random.choice(player_list))\n",
    "        player2 = ([p for p in player_list if p != player1][0])\n",
    "\n",
    "        deadnumber=random.randint(1,6) #define using random function the trigger of the end of the game\n",
    "\n",
    "        print(player1,\"you begin the game - good luck\")\n",
    "\n",
    "        #The game is played via a loop from 1 to 6 corresponding to 6 rounds of the game.\n",
    "        # if a counter is different from a \"dead number\" => output of the current round and a message that player is alive\n",
    "        # its always player 1 who starts the game, if round is even is player 2, if round is odd is player 2.\n",
    "        #if counter = deadnumber => end of the game and related output\n",
    "        for i in range(1,7): \n",
    "            print(input(\"press enter to start the game\")) #to start the game player press enter\n",
    "            \n",
    "            for t in range(3,0,-1):\n",
    "                info = 'shoot in '+ str(t) +''second'\n",
    "                print(info,end='\\r')\n",
    "                time.sleep(1)\n",
    "            if i !=deadnumber: #if a number is not equal to \"dead number\" - game continue\n",
    "                print(\"that was a round\",i) #output to show a current round\n",
    "          #To determine output of the round and swith to other player.        \n",
    "                if i%2==0:\n",
    "                    print(player2,\"you're still alive! this is your lucky day...for now \") \n",
    "                    print(\"now it is a round of\",player1)\n",
    "                else:\n",
    "                    print(player1,\"you're still alive! this is your lucky day...for now \")\n",
    "                    print(\"now it is a round of\",player2)\n",
    "                continue\n",
    "\n",
    "            else:         \n",
    "                print(\"that was round\",i)\n",
    "                if i%2==0:\n",
    "                    print(\"sorry\",player2,\"you're dead! good life in heaven\")\n",
    "                    print(player1,\"you're really lucky\")\n",
    "                    break\n",
    "                else:\n",
    "                    print(\"sorry\",player1,\"you're dead! good life in heaven\")\n",
    "                    print(player2,\"you're really lucky\")\n",
    "                    break"
   ]
  },
  {
   "cell_type": "code",
   "execution_count": 11,
   "id": "fa1b3377",
   "metadata": {},
   "outputs": [
    {
     "name": "stdout",
     "output_type": "stream",
     "text": [
      "Please enter your name olga\n",
      "Player enter your name Maximùe\n",
      "Maximùe you begin the game - good luck\n",
      "press enter to start the game\n",
      "\n",
      "that was a round 1\n",
      "Maximùe you're still alive! this is your lucky day...for now \n",
      "now it is a round of olga\n",
      "press enter to start the game\n",
      "\n",
      "that was round 2\n",
      "sorry olga you're dead! good life in heaven\n",
      "Maximùe you're really lucky\n"
     ]
    }
   ],
   "source": [
    "russian_roulette()"
   ]
  },
  {
   "cell_type": "code",
   "execution_count": null,
   "id": "3eeaf1c3",
   "metadata": {},
   "outputs": [],
   "source": []
  }
 ],
 "metadata": {
  "kernelspec": {
   "display_name": "Python 3",
   "language": "python",
   "name": "python3"
  },
  "language_info": {
   "codemirror_mode": {
    "name": "ipython",
    "version": 3
   },
   "file_extension": ".py",
   "mimetype": "text/x-python",
   "name": "python",
   "nbconvert_exporter": "python",
   "pygments_lexer": "ipython3",
   "version": "3.8.8"
  }
 },
 "nbformat": 4,
 "nbformat_minor": 5
}
