{
 "cells": [
  {
   "cell_type": "code",
   "execution_count": 19,
   "id": "5f958e72",
   "metadata": {},
   "outputs": [],
   "source": [
    "def russian_roulette_1():\n",
    "    import time\n",
    "    import random\n",
    "    try:\n",
    "        n=int(input(\"Please input number of player\"))\n",
    "    except:\n",
    "        input(\"Not a number, please input a number\")\n",
    "    players=[]\n",
    "    for i in range(1,100):\n",
    "        name=input(\"Please enter your name \")\n",
    "        players.append(name)\n",
    "        if i==n:\n",
    "            break\n",
    "\n",
    "    round=1\n",
    "    deadnumber=random.randint(1,6)\n",
    "    while round<=6:\n",
    "        for i in range(0,len(players)): \n",
    "                print(players[i], \"your time to play\")\n",
    "                print(\"Round\",round) #output to show a current round\n",
    "                print(input(\"press enter to start the game\")) #to start the game player press enter\n",
    "                for t in range(3,0,-1):\n",
    "                    info='shoot in '+str(t)+'s'\n",
    "                    print(info,end='\\r')\n",
    "                    time.sleep(1)\n",
    "                if round!=deadnumber: #if current round is not equal to \"dead number\" - game continue\n",
    "                    #print(\"that was a round\",round) #output to show a current round\n",
    "                    print(\"CLIC\",players[i],\"you're still alive! this is your lucky day...for now \") \n",
    "\n",
    "                    #if i==len(players):\n",
    "                        #print(\"Next round \")\n",
    "                     #   break\n",
    "                    #else:\n",
    "                    #i+=1\n",
    "\n",
    "                        #round+=1\n",
    "                else:\n",
    "                    print(\"BOOM\",players[i],\"OOps!you're dead\")\n",
    "                    break\n",
    "                round+=1\n",
    "        if round==deadnumber:\n",
    "            print(\"Gameover\")\n",
    "            break"
   ]
  },
  {
   "cell_type": "code",
   "execution_count": 20,
   "id": "885054e5",
   "metadata": {},
   "outputs": [
    {
     "name": "stdout",
     "output_type": "stream",
     "text": [
      "Please input number of player2\n",
      "Please enter your name Olha\n",
      "Please enter your name Max\n",
      "Olha your time to play\n",
      "Round 1\n",
      "press enter to start the game\n",
      "\n",
      "CLIC Olha you're still alive! this is your lucky day...for now \n",
      "Max your time to play\n",
      "Round 2\n",
      "press enter to start the game\n",
      "\n",
      "BOOM Max OOps!you're dead\n",
      "Gameover\n"
     ]
    }
   ],
   "source": [
    "russian_roulette_1()\n"
   ]
  },
  {
   "cell_type": "code",
   "execution_count": 15,
   "id": "09a234a9",
   "metadata": {},
   "outputs": [
    {
     "ename": "NameError",
     "evalue": "name 'deadnumber' is not defined",
     "output_type": "error",
     "traceback": [
      "\u001b[1;31m---------------------------------------------------------------------------\u001b[0m",
      "\u001b[1;31mNameError\u001b[0m                                 Traceback (most recent call last)",
      "\u001b[1;32m<ipython-input-15-756cbac56ba9>\u001b[0m in \u001b[0;36m<module>\u001b[1;34m\u001b[0m\n\u001b[1;32m----> 1\u001b[1;33m \u001b[0mprint\u001b[0m\u001b[1;33m(\u001b[0m\u001b[0mdeadnumber\u001b[0m\u001b[1;33m)\u001b[0m\u001b[1;33m\u001b[0m\u001b[1;33m\u001b[0m\u001b[0m\n\u001b[0m",
      "\u001b[1;31mNameError\u001b[0m: name 'deadnumber' is not defined"
     ]
    }
   ],
   "source": [
    "print(deadnumber)"
   ]
  },
  {
   "cell_type": "code",
   "execution_count": null,
   "id": "5b565483",
   "metadata": {},
   "outputs": [],
   "source": []
  }
 ],
 "metadata": {
  "kernelspec": {
   "display_name": "Python 3",
   "language": "python",
   "name": "python3"
  },
  "language_info": {
   "codemirror_mode": {
    "name": "ipython",
    "version": 3
   },
   "file_extension": ".py",
   "mimetype": "text/x-python",
   "name": "python",
   "nbconvert_exporter": "python",
   "pygments_lexer": "ipython3",
   "version": "3.8.8"
  }
 },
 "nbformat": 4,
 "nbformat_minor": 5
}
